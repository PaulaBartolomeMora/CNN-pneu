{
 "cells": [
  {
   "cell_type": "code",
   "execution_count": 3,
   "metadata": {},
   "outputs": [
    {
     "ename": "ModuleNotFoundError",
     "evalue": "No module named 'imports'",
     "output_type": "error",
     "traceback": [
      "\u001b[1;31m---------------------------------------------------------------------------\u001b[0m",
      "\u001b[1;31mModuleNotFoundError\u001b[0m                       Traceback (most recent call last)",
      "\u001b[1;32mc:\\Users\\pbartolome\\Documents\\python\\udemy-machine-learning\\CNN_pneu\\functions.ipynb Cell 1\u001b[0m line \u001b[0;36m1\n\u001b[1;32m----> <a href='vscode-notebook-cell:/c%3A/Users/pbartolome/Documents/python/udemy-machine-learning/CNN_pneu/functions.ipynb#W0sZmlsZQ%3D%3D?line=0'>1</a>\u001b[0m \u001b[39mimport\u001b[39;00m \u001b[39mimports\u001b[39;00m\n",
      "\u001b[1;31mModuleNotFoundError\u001b[0m: No module named 'imports'"
     ]
    }
   ],
   "source": [
    "import imports"
   ]
  },
  {
   "cell_type": "code",
   "execution_count": null,
   "metadata": {},
   "outputs": [],
   "source": [
    "# Preprocesado: redimensionado 150x150, escala de grises y conversión a array\n",
    "def preprocess(image): \n",
    "    if image is not None:\n",
    "        image = skimage.transform.resize(image, (150,150,3), mode = 'constant', anti_aliasing=True)\n",
    "        image = rgb2gray(image)\n",
    "        image_array = np.asarray(image)\n",
    "    return image_array"
   ]
  },
  {
   "cell_type": "code",
   "execution_count": 4,
   "metadata": {},
   "outputs": [],
   "source": [
    "# Carga de datos\n",
    "def get_images(dir): #dir = chest_xray/train/ o chest_xray/test/\n",
    "    IMAGES = []\n",
    "    LABELS = []\n",
    "    \n",
    "    for subdir in os.listdir(dir): #lista de subdirectorios en train/ o test/ -> ['NORMAL', 'PNEUMONIA']\n",
    "        if dir in ['NORMAL']:\n",
    "            label = 0\n",
    "        elif dir in ['PNEUMONIA']:\n",
    "            label = 1\n",
    "        else: \n",
    "            label = 2\n",
    "    print('hola')\n",
    "    \n",
    "    for image_name in tqdm(os.listdir(dir+subdir)): #barra de progreso\n",
    "        image = cv2.imread(dir + subdir + '/' + image_name) #lectura\n",
    "        image_array = preprocess(image)\n",
    "        \n",
    "        IMAGES.append(image_array)\n",
    "        LABELS.append(label)\n",
    "        \n",
    "    IMAGES = np.asarray(IMAGES)\n",
    "    LABELS = np.asarray(LABELS)"
   ]
  },
  {
   "cell_type": "code",
   "execution_count": 5,
   "metadata": {},
   "outputs": [
    {
     "ename": "NameError",
     "evalue": "name 'os' is not defined",
     "output_type": "error",
     "traceback": [
      "\u001b[1;31m---------------------------------------------------------------------------\u001b[0m",
      "\u001b[1;31mNameError\u001b[0m                                 Traceback (most recent call last)",
      "\u001b[1;32mc:\\Users\\pbartolome\\Documents\\python\\udemy-machine-learning\\CNN_pneu\\functions.ipynb Cell 4\u001b[0m line \u001b[0;36m1\n\u001b[1;32m----> <a href='vscode-notebook-cell:/c%3A/Users/pbartolome/Documents/python/udemy-machine-learning/CNN_pneu/functions.ipynb#W3sZmlsZQ%3D%3D?line=0'>1</a>\u001b[0m x_train, y_train \u001b[39m=\u001b[39m get_images(\u001b[39m\"\u001b[39;49m\u001b[39mchest_xray/train/\u001b[39;49m\u001b[39m\"\u001b[39;49m)\n",
      "\u001b[1;32mc:\\Users\\pbartolome\\Documents\\python\\udemy-machine-learning\\CNN_pneu\\functions.ipynb Cell 4\u001b[0m line \u001b[0;36m6\n\u001b[0;32m      <a href='vscode-notebook-cell:/c%3A/Users/pbartolome/Documents/python/udemy-machine-learning/CNN_pneu/functions.ipynb#W3sZmlsZQ%3D%3D?line=2'>3</a>\u001b[0m IMAGES \u001b[39m=\u001b[39m []\n\u001b[0;32m      <a href='vscode-notebook-cell:/c%3A/Users/pbartolome/Documents/python/udemy-machine-learning/CNN_pneu/functions.ipynb#W3sZmlsZQ%3D%3D?line=3'>4</a>\u001b[0m LABELS \u001b[39m=\u001b[39m []\n\u001b[1;32m----> <a href='vscode-notebook-cell:/c%3A/Users/pbartolome/Documents/python/udemy-machine-learning/CNN_pneu/functions.ipynb#W3sZmlsZQ%3D%3D?line=5'>6</a>\u001b[0m \u001b[39mfor\u001b[39;00m subdir \u001b[39min\u001b[39;00m os\u001b[39m.\u001b[39mlistdir(\u001b[39mdir\u001b[39m): \u001b[39m#lista de subdirectorios en train/ o test/ -> ['NORMAL', 'PNEUMONIA']\u001b[39;00m\n\u001b[0;32m      <a href='vscode-notebook-cell:/c%3A/Users/pbartolome/Documents/python/udemy-machine-learning/CNN_pneu/functions.ipynb#W3sZmlsZQ%3D%3D?line=6'>7</a>\u001b[0m     \u001b[39mif\u001b[39;00m \u001b[39mdir\u001b[39m \u001b[39min\u001b[39;00m [\u001b[39m'\u001b[39m\u001b[39mNORMAL\u001b[39m\u001b[39m'\u001b[39m]:\n\u001b[0;32m      <a href='vscode-notebook-cell:/c%3A/Users/pbartolome/Documents/python/udemy-machine-learning/CNN_pneu/functions.ipynb#W3sZmlsZQ%3D%3D?line=7'>8</a>\u001b[0m         label \u001b[39m=\u001b[39m \u001b[39m0\u001b[39m\n",
      "\u001b[1;31mNameError\u001b[0m: name 'os' is not defined"
     ]
    }
   ],
   "source": [
    "\n",
    "x_train, y_train = get_images(\"chest_xray/train/\")"
   ]
  }
 ],
 "metadata": {
  "kernelspec": {
   "display_name": "tf",
   "language": "python",
   "name": "python3"
  },
  "language_info": {
   "codemirror_mode": {
    "name": "ipython",
    "version": 3
   },
   "file_extension": ".py",
   "mimetype": "text/x-python",
   "name": "python",
   "nbconvert_exporter": "python",
   "pygments_lexer": "ipython3",
   "version": "3.9.18"
  },
  "orig_nbformat": 4
 },
 "nbformat": 4,
 "nbformat_minor": 2
}
