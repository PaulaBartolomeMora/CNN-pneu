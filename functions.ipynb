{
 "cells": [
  {
   "cell_type": "code",
   "execution_count": 7,
   "metadata": {},
   "outputs": [
    {
     "ename": "ModuleNotFoundError",
     "evalue": "No module named 'imports'",
     "output_type": "error",
     "traceback": [
      "\u001b[1;31m---------------------------------------------------------------------------\u001b[0m",
      "\u001b[1;31mModuleNotFoundError\u001b[0m                       Traceback (most recent call last)",
      "\u001b[1;32mc:\\Users\\pbartolome\\Documents\\python\\udemy-machine-learning\\CNN_pneu\\functions.ipynb Cell 1\u001b[0m line \u001b[0;36m1\n\u001b[1;32m----> <a href='vscode-notebook-cell:/c%3A/Users/pbartolome/Documents/python/udemy-machine-learning/CNN_pneu/functions.ipynb#W0sZmlsZQ%3D%3D?line=0'>1</a>\u001b[0m \u001b[39mimport\u001b[39;00m \u001b[39mimports\u001b[39;00m\n",
      "\u001b[1;31mModuleNotFoundError\u001b[0m: No module named 'imports'"
     ]
    }
   ],
   "source": [
    "import imports"
   ]
  },
  {
   "cell_type": "code",
   "execution_count": 8,
   "metadata": {},
   "outputs": [],
   "source": [
    "# Preprocesado: redimensionado 150x150, escala de grises y conversión a array\n",
    "def preprocess(image): \n",
    "    image = skimage.transform.resize(image, (150,150,3), mode = 'constant', anti_aliasing=True)\n",
    "    image = rgb2gray(image)\n",
    "    np_array = np.asarray(image)\n",
    "    return np_array"
   ]
  },
  {
   "cell_type": "code",
   "execution_count": 9,
   "metadata": {},
   "outputs": [],
   "source": [
    "# Carga de datos\n",
    "def get_images(dir): #dir = chest_xray/train/ o chest_xray/test/\n",
    "    IMAGES = []\n",
    "    LABELS = []\n",
    "    \n",
    "    for subdir in os.listdir(dir): #lista de subdirectorios en train/ o test/ -> ['NORMAL', 'PNEUMONIA']\n",
    "        if not subdir.startswith('.'):\n",
    "            if dir in ['NORMAL']:\n",
    "                label = 0\n",
    "            elif dir in ['PNEUMONIA']:\n",
    "                label = 1\n",
    "            else: \n",
    "                label = 2\n",
    "    \n",
    "    for image_name in tqdm(os.listdir(dir+subdir)): #barra de progreso\n",
    "        image = cv2.imread(dir + subdir + '/' + image_name) #lectura\n",
    "        if image is not None:\n",
    "            image_array = preprocess(image) #devuelve el array de la imagen\n",
    "            IMAGES.append(image_array) #add a lista de arrays\n",
    "            LABELS.append(label) #add a lista de labels\n",
    "        \n",
    "    IMAGES = np.asarray(IMAGES)\n",
    "    LABELS = np.asarray(LABELS)\n",
    "    return IMAGES, LABELS"
   ]
  }
 ],
 "metadata": {
  "kernelspec": {
   "display_name": "tf",
   "language": "python",
   "name": "python3"
  },
  "language_info": {
   "codemirror_mode": {
    "name": "ipython",
    "version": 3
   },
   "file_extension": ".py",
   "mimetype": "text/x-python",
   "name": "python",
   "nbconvert_exporter": "python",
   "pygments_lexer": "ipython3",
   "version": "3.9.18"
  },
  "orig_nbformat": 4
 },
 "nbformat": 4,
 "nbformat_minor": 2
}
