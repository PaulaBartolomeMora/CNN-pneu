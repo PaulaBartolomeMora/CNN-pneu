{
 "cells": [
  {
   "cell_type": "markdown",
   "metadata": {},
   "source": [
    "# Reconocimiento de imágenes con TensorFlow. REDES NEURONALES CONVOLUCIONALES (CNN)"
   ]
  },
  {
   "cell_type": "code",
   "execution_count": 6,
   "metadata": {},
   "outputs": [],
   "source": [
    "# Cuando las imágenes tienen grandes dimensiones se aplica la operación de convolución:\n",
    "# - Se crea un mapa o array de valores más pequeño que caracteriza a la imagen\n",
    "# - Se aplica un filtro MAX (obtiene el valor máximo de cada sección de píxeles) para obtener una capa de reducción o imagen más pequeña\n",
    "# - Flatening: se deja como una capa plana de una dimensión"
   ]
  },
  {
   "cell_type": "code",
   "execution_count": 7,
   "metadata": {},
   "outputs": [],
   "source": [
    "#!pip install --upgrade pip\n",
    "#!pip install pandas \n",
    "#!pip install tqdm \n",
    "#!pip install scikit-learn \n",
    "#!pip install scikit-image\n",
    "!pip install imblearn\n",
    "\n",
    "from __future__ import absolute_import, division, print_function, unicode_literals\n",
    "\n",
    "import tensorflow as tf\n",
    "from tensorflow.keras import datasets, layers, models\n",
    "\n",
    "import os\n",
    "import datetime\n",
    "\n",
    "import numpy as np\n",
    "import pandas as pd\n",
    "import matplotlib.pyplot as plt\n",
    "\n",
    "from tqdm import tqdm #barra de progreso\n",
    "import cv2\n",
    "#from glob import glob\n",
    "\n",
    "#para redimensionar\n",
    "import sklearn\n",
    "import skimage\n",
    "from skimage.transform import resize\n",
    "\n",
    "import random\n",
    "\n",
    "from imblearn.over_sampling import RandomOverSampler\n",
    "from imblearn.under_sampling import RandomUnderSampler\n",
    "from skimage.color import rgb2gray"
   ]
  }
 ],
 "metadata": {
  "kernelspec": {
   "display_name": "tf",
   "language": "python",
   "name": "python3"
  },
  "language_info": {
   "codemirror_mode": {
    "name": "ipython",
    "version": 3
   },
   "file_extension": ".py",
   "mimetype": "text/x-python",
   "name": "python",
   "nbconvert_exporter": "python",
   "pygments_lexer": "ipython3",
   "version": "3.9.18"
  },
  "orig_nbformat": 4
 },
 "nbformat": 4,
 "nbformat_minor": 2
}
