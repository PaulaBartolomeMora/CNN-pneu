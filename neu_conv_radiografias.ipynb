{
 "cells": [
  {
   "cell_type": "markdown",
   "metadata": {},
   "source": [
    "# Reconocimiento de imágenes con TensorFlow. REDES NEURONALES CONVOLUCIONALES (CNN)"
   ]
  },
  {
   "cell_type": "code",
   "execution_count": 39,
   "metadata": {},
   "outputs": [],
   "source": [
    "# Cuando las imágenes tienen grandes dimensiones se aplica la operación de convolución:\n",
    "# - Se crea un mapa o array de valores más pequeño que caracteriza a la imagen\n",
    "# - Se aplica un filtro MAX (obtiene el valor máximo de cada sección de píxeles) para obtener una capa de reducción o imagen más pequeña\n",
    "# - Flatening: se deja como una capa plana de una dimensión\n",
    "\n",
    "# TRAIN -> nº de imgs normal = nº imgs pneu"
   ]
  },
  {
   "cell_type": "code",
   "execution_count": 40,
   "metadata": {},
   "outputs": [],
   "source": [
    "import imports\n",
    "import functions"
   ]
  },
  {
   "cell_type": "code",
   "execution_count": 41,
   "metadata": {},
   "outputs": [
    {
     "ename": "TypeError",
     "evalue": "cannot unpack non-iterable NoneType object",
     "output_type": "error",
     "traceback": [
      "\u001b[1;31m---------------------------------------------------------------------------\u001b[0m",
      "\u001b[1;31mTypeError\u001b[0m                                 Traceback (most recent call last)",
      "\u001b[1;32mc:\\Users\\pbartolome\\Documents\\python\\udemy-machine-learning\\CNN_pneu\\neu_conv_radiografias.ipynb Cell 4\u001b[0m line \u001b[0;36m3\n\u001b[0;32m      <a href='vscode-notebook-cell:/c%3A/Users/pbartolome/Documents/python/udemy-machine-learning/CNN_pneu/neu_conv_radiografias.ipynb#W3sZmlsZQ%3D%3D?line=0'>1</a>\u001b[0m \u001b[39mfrom\u001b[39;00m \u001b[39mfunctions\u001b[39;00m \u001b[39mimport\u001b[39;00m get_images \u001b[39m#functions.py\u001b[39;00m\n\u001b[1;32m----> <a href='vscode-notebook-cell:/c%3A/Users/pbartolome/Documents/python/udemy-machine-learning/CNN_pneu/neu_conv_radiografias.ipynb#W3sZmlsZQ%3D%3D?line=2'>3</a>\u001b[0m x_train, y_train \u001b[39m=\u001b[39m get_images(\u001b[39m\"\u001b[39m\u001b[39mchest_xray/train/\u001b[39m\u001b[39m\"\u001b[39m)\n\u001b[0;32m      <a href='vscode-notebook-cell:/c%3A/Users/pbartolome/Documents/python/udemy-machine-learning/CNN_pneu/neu_conv_radiografias.ipynb#W3sZmlsZQ%3D%3D?line=3'>4</a>\u001b[0m x_test, y_test\u001b[39m=\u001b[39m get_images(\u001b[39m\"\u001b[39m\u001b[39mchest_xray/test/\u001b[39m\u001b[39m\"\u001b[39m)\n",
      "\u001b[1;31mTypeError\u001b[0m: cannot unpack non-iterable NoneType object"
     ]
    }
   ],
   "source": [
    "from functions import get_images #functions.py\n",
    "\n",
    "x_train, y_train = get_images(\"chest_xray/train/\")\n",
    "x_test, y_test= get_images(\"chest_xray/test/\")"
   ]
  }
 ],
 "metadata": {
  "kernelspec": {
   "display_name": "tf",
   "language": "python",
   "name": "python3"
  },
  "language_info": {
   "codemirror_mode": {
    "name": "ipython",
    "version": 3
   },
   "file_extension": ".py",
   "mimetype": "text/x-python",
   "name": "python",
   "nbconvert_exporter": "python",
   "pygments_lexer": "ipython3",
   "version": "3.9.18"
  },
  "orig_nbformat": 4
 },
 "nbformat": 4,
 "nbformat_minor": 2
}
